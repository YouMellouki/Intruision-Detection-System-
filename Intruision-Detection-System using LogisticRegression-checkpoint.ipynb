{
 "cells": [
  {
   "cell_type": "markdown",
   "metadata": {},
   "source": [
    "# Croupe : \n",
    "- MELLOUKIYounes.\n",
    "- ELAFFANE Noamane.\n",
    "- ZAZA Zakaria."
   ]
  },
  {
   "cell_type": "code",
   "execution_count": 50,
   "metadata": {},
   "outputs": [],
   "source": [
    "#1st should import this command to findspark\n",
    "\n",
    "import findspark\n",
    "findspark.init()\n",
    "findspark.find()\n",
    "import pyspark\n"
   ]
  },
  {
   "cell_type": "code",
   "execution_count": 51,
   "metadata": {},
   "outputs": [],
   "source": [
    "#importing packages from pyspark_mllib \n",
    "\n",
    "from pyspark.mllib.evaluation import MulticlassMetrics\n",
    "from pyspark.ml import Pipeline\n",
    "from pyspark.ml.classification import DecisionTreeClassifier\n",
    "from pyspark.ml.evaluation import BinaryClassificationEvaluator, MulticlassClassificationEvaluator\n",
    "from pyspark.ml.feature import OneHotEncoder, StringIndexer, VectorAssembler\n",
    "from pyspark.shell import sqlContext\n",
    "from pyspark.mllib.util import MLUtils\n",
    "import time\n"
   ]
  },
  {
   "cell_type": "code",
   "execution_count": 52,
   "metadata": {},
   "outputs": [],
   "source": [
    "#initialising SparkSession\n",
    "\n",
    "from pyspark import SparkContext, SparkConf\n",
    "from pyspark.sql import SparkSession\n",
    "from pyspark.sql import SparkSession\n",
    "\n",
    "conf = pyspark.SparkConf().setAppName('app').setMaster('local')\n",
    "\n",
    "\n"
   ]
  },
  {
   "cell_type": "code",
   "execution_count": 53,
   "metadata": {},
   "outputs": [
    {
     "name": "stdout",
     "output_type": "stream",
     "text": [
      "root\n",
      " |-- id: integer (nullable = true)\n",
      " |-- dur: double (nullable = true)\n",
      " |-- proto: string (nullable = true)\n",
      " |-- service: string (nullable = true)\n",
      " |-- state: string (nullable = true)\n",
      " |-- spkts: integer (nullable = true)\n",
      " |-- dpkts: integer (nullable = true)\n",
      " |-- sbytes: integer (nullable = true)\n",
      " |-- dbytes: integer (nullable = true)\n",
      " |-- rate: double (nullable = true)\n",
      " |-- sttl: integer (nullable = true)\n",
      " |-- dttl: integer (nullable = true)\n",
      " |-- sload: double (nullable = true)\n",
      " |-- dload: double (nullable = true)\n",
      " |-- sloss: integer (nullable = true)\n",
      " |-- dloss: integer (nullable = true)\n",
      " |-- sinpkt: double (nullable = true)\n",
      " |-- dinpkt: double (nullable = true)\n",
      " |-- sjit: double (nullable = true)\n",
      " |-- djit: double (nullable = true)\n",
      " |-- swin: integer (nullable = true)\n",
      " |-- stcpb: long (nullable = true)\n",
      " |-- dtcpb: long (nullable = true)\n",
      " |-- dwin: integer (nullable = true)\n",
      " |-- tcprtt: double (nullable = true)\n",
      " |-- synack: double (nullable = true)\n",
      " |-- ackdat: double (nullable = true)\n",
      " |-- smean: integer (nullable = true)\n",
      " |-- dmean: integer (nullable = true)\n",
      " |-- trans_depth: integer (nullable = true)\n",
      " |-- response_body_len: integer (nullable = true)\n",
      " |-- ct_srv_src: integer (nullable = true)\n",
      " |-- ct_state_ttl: integer (nullable = true)\n",
      " |-- ct_dst_ltm: integer (nullable = true)\n",
      " |-- ct_src_dport_ltm: integer (nullable = true)\n",
      " |-- ct_dst_sport_ltm: integer (nullable = true)\n",
      " |-- ct_dst_src_ltm: integer (nullable = true)\n",
      " |-- is_ftp_login: integer (nullable = true)\n",
      " |-- ct_ftp_cmd: integer (nullable = true)\n",
      " |-- ct_flw_http_mthd: integer (nullable = true)\n",
      " |-- ct_src_ltm: integer (nullable = true)\n",
      " |-- ct_srv_dst: integer (nullable = true)\n",
      " |-- is_sm_ips_ports: integer (nullable = true)\n",
      " |-- attack_cat: string (nullable = true)\n",
      " |-- label: integer (nullable = true)\n",
      "\n"
     ]
    },
    {
     "data": {
      "text/plain": [
       "[Row(id=1, dur=0.121478, proto='tcp', service='-', state='FIN', spkts=6, dpkts=4, sbytes=258, dbytes=172, rate=74.08749, sttl=252, dttl=254, sload=14158.94238, dload=8495.365234, sloss=0, dloss=0, sinpkt=24.2956, dinpkt=8.375, sjit=30.177547, djit=11.830604, swin=255, stcpb=621772692, dtcpb=2202533631, dwin=255, tcprtt=0.0, synack=0.0, ackdat=0.0, smean=43, dmean=43, trans_depth=0, response_body_len=0, ct_srv_src=1, ct_state_ttl=0, ct_dst_ltm=1, ct_src_dport_ltm=1, ct_dst_sport_ltm=1, ct_dst_src_ltm=1, is_ftp_login=0, ct_ftp_cmd=0, ct_flw_http_mthd=0, ct_src_ltm=1, ct_srv_dst=1, is_sm_ips_ports=0, attack_cat='Normal', label=0),\n",
       " Row(id=2, dur=0.649902, proto='tcp', service='-', state='FIN', spkts=14, dpkts=38, sbytes=734, dbytes=42014, rate=78.473372, sttl=62, dttl=252, sload=8395.112305, dload=503571.3125, sloss=2, dloss=17, sinpkt=49.915, dinpkt=15.432865, sjit=61.426934, djit=1387.77833, swin=255, stcpb=1417884146, dtcpb=3077387971, dwin=255, tcprtt=0.0, synack=0.0, ackdat=0.0, smean=52, dmean=1106, trans_depth=0, response_body_len=0, ct_srv_src=43, ct_state_ttl=1, ct_dst_ltm=1, ct_src_dport_ltm=1, ct_dst_sport_ltm=1, ct_dst_src_ltm=2, is_ftp_login=0, ct_ftp_cmd=0, ct_flw_http_mthd=0, ct_src_ltm=1, ct_srv_dst=6, is_sm_ips_ports=0, attack_cat='Normal', label=0)]"
      ]
     },
     "execution_count": 53,
     "metadata": {},
     "output_type": "execute_result"
    }
   ],
   "source": [
    "#data input\n",
    "\n",
    "spark = SparkSession.builder.appName('project_CSE15055').getOrCreate()\n",
    "df = spark.read.csv('UNSW_NB15/UNSW_NB15_train-set.csv', header = True, inferSchema = True)\n",
    "df.printSchema()\n",
    "df.head(2)"
   ]
  },
  {
   "cell_type": "code",
   "execution_count": 54,
   "metadata": {},
   "outputs": [
    {
     "data": {
      "text/plain": [
       "[Row(id=1, dur=0.121478, proto='tcp', service='-', state='FIN', spkts=6, dpkts=4, sbytes=258, dbytes=172, rate=74.08749, sttl=252, dttl=254, sload=14158.94238, dload=8495.365234, sloss=0, dloss=0, sinpkt=24.2956, dinpkt=8.375, sjit=30.177547, djit=11.830604, swin=255, stcpb=621772692, dtcpb=2202533631, dwin=255, tcprtt=0.0, synack=0.0, ackdat=0.0, smean=43, dmean=43, trans_depth=0, response_body_len=0, ct_srv_src=1, ct_state_ttl=0, ct_dst_ltm=1, ct_src_dport_ltm=1, ct_dst_sport_ltm=1, ct_dst_src_ltm=1, is_ftp_login=0, ct_ftp_cmd=0, ct_flw_http_mthd=0, ct_src_ltm=1, ct_srv_dst=1, is_sm_ips_ports=0, attack_cat='Normal', label=0),\n",
       " Row(id=2, dur=0.649902, proto='tcp', service='-', state='FIN', spkts=14, dpkts=38, sbytes=734, dbytes=42014, rate=78.473372, sttl=62, dttl=252, sload=8395.112305, dload=503571.3125, sloss=2, dloss=17, sinpkt=49.915, dinpkt=15.432865, sjit=61.426934, djit=1387.77833, swin=255, stcpb=1417884146, dtcpb=3077387971, dwin=255, tcprtt=0.0, synack=0.0, ackdat=0.0, smean=52, dmean=1106, trans_depth=0, response_body_len=0, ct_srv_src=43, ct_state_ttl=1, ct_dst_ltm=1, ct_src_dport_ltm=1, ct_dst_sport_ltm=1, ct_dst_src_ltm=2, is_ftp_login=0, ct_ftp_cmd=0, ct_flw_http_mthd=0, ct_src_ltm=1, ct_srv_dst=6, is_sm_ips_ports=0, attack_cat='Normal', label=0),\n",
       " Row(id=3, dur=1.623129, proto='tcp', service='-', state='FIN', spkts=8, dpkts=16, sbytes=364, dbytes=13186, rate=14.170161, sttl=62, dttl=252, sload=1572.271851, dload=60929.23047, sloss=1, dloss=6, sinpkt=231.875571, dinpkt=102.737203, sjit=17179.58686, djit=11420.92623, swin=255, stcpb=2116150707, dtcpb=2963114973, dwin=255, tcprtt=0.111897, synack=0.061458, ackdat=0.050439, smean=46, dmean=824, trans_depth=0, response_body_len=0, ct_srv_src=7, ct_state_ttl=1, ct_dst_ltm=2, ct_src_dport_ltm=1, ct_dst_sport_ltm=1, ct_dst_src_ltm=3, is_ftp_login=0, ct_ftp_cmd=0, ct_flw_http_mthd=0, ct_src_ltm=2, ct_srv_dst=6, is_sm_ips_ports=0, attack_cat='Normal', label=0),\n",
       " Row(id=4, dur=1.681642, proto='tcp', service='ftp', state='FIN', spkts=12, dpkts=12, sbytes=628, dbytes=770, rate=13.677108, sttl=62, dttl=252, sload=2740.178955, dload=3358.62207, sloss=1, dloss=3, sinpkt=152.876547, dinpkt=90.235726, sjit=259.080172, djit=4991.784669, swin=255, stcpb=1107119177, dtcpb=1047442890, dwin=255, tcprtt=0.0, synack=0.0, ackdat=0.0, smean=52, dmean=64, trans_depth=0, response_body_len=0, ct_srv_src=1, ct_state_ttl=1, ct_dst_ltm=2, ct_src_dport_ltm=1, ct_dst_sport_ltm=1, ct_dst_src_ltm=3, is_ftp_login=1, ct_ftp_cmd=1, ct_flw_http_mthd=0, ct_src_ltm=2, ct_srv_dst=1, is_sm_ips_ports=0, attack_cat='Normal', label=0),\n",
       " Row(id=5, dur=0.449454, proto='tcp', service='-', state='FIN', spkts=10, dpkts=6, sbytes=534, dbytes=268, rate=33.373826, sttl=254, dttl=252, sload=8561.499023, dload=3987.059814, sloss=2, dloss=1, sinpkt=47.750333, dinpkt=75.659602, sjit=2415.837634, djit=115.807, swin=255, stcpb=2436137549, dtcpb=1977154190, dwin=255, tcprtt=0.128381, synack=0.071147, ackdat=0.057234, smean=53, dmean=45, trans_depth=0, response_body_len=0, ct_srv_src=43, ct_state_ttl=1, ct_dst_ltm=2, ct_src_dport_ltm=2, ct_dst_sport_ltm=1, ct_dst_src_ltm=40, is_ftp_login=0, ct_ftp_cmd=0, ct_flw_http_mthd=0, ct_src_ltm=2, ct_srv_dst=39, is_sm_ips_ports=0, attack_cat='Normal', label=0)]"
      ]
     },
     "execution_count": 54,
     "metadata": {},
     "output_type": "execute_result"
    }
   ],
   "source": [
    "df.head(5)"
   ]
  },
  {
   "cell_type": "code",
   "execution_count": 55,
   "metadata": {},
   "outputs": [],
   "source": [
    "# Processing data\n",
    "\n",
    "cloumns_set=df.columns\n",
    "categorical_Columns = ['proto',  'state', 'service']\n",
    "stages = []"
   ]
  },
  {
   "cell_type": "code",
   "execution_count": 56,
   "metadata": {},
   "outputs": [],
   "source": [
    "# changes the data into vectors that library can undestand and saved in stages\n",
    "# df.show()\n",
    "# using StringIndexer & OneHotEncoder\n",
    "\n",
    "for categorical_Col in categorical_Columns:\n",
    "    string_Indexer = StringIndexer(inputCol = categorical_Col, outputCol = categorical_Col + 'Index')\n",
    "    encoder_cat_col = OneHotEncoder(inputCols=[string_Indexer.getOutputCol()], outputCols=[categorical_Col + \"classVec\"])\n",
    "    stages += [string_Indexer, encoder_cat_col]\n"
   ]
  },
  {
   "cell_type": "code",
   "execution_count": 57,
   "metadata": {},
   "outputs": [],
   "source": [
    "# Change/Feed Label\n",
    "\n",
    "Label_str_Indexer = StringIndexer(inputCol = 'label', outputCol = 'Pred_Label')\n",
    "stages += [Label_str_Indexer]"
   ]
  },
  {
   "cell_type": "code",
   "execution_count": 58,
   "metadata": {},
   "outputs": [],
   "source": [
    "#all labels used\n",
    "numeric_Cols=['dur','spkts','dpkts','sbytes','dbytes','rate','sttl','dttl','sload','dload','sloss','dloss','sinpkt','dinpkt','sjit','djit','swin','stcpb','dtcpb','dwin','tcprtt','synack','ackdat','smean','dmean','trans_depth','response_body_len','ct_srv_src','ct_state_ttl'\t,'ct_dst_ltm',\t'ct_src_dport_ltm','ct_dst_sport_ltm','ct_dst_src_ltm','is_ftp_login','ct_ftp_cmd','ct_flw_http_mthd','ct_src_ltm','ct_srv_dst','is_sm_ips_ports']\n",
    "\n",
    "# Random 5 labels\n",
    "# numeric_Cols= ['sttl', 'sbytes', 'dwin', 'smean', 'dmean']\n",
    "# Another set of random 5 labels\n",
    "# numeric_Cols = ['sloss', 'sload', 'stcpb', 'dtcpb', 'trans_depth']\n",
    "assembler_Inputs = [c + \"classVec\" for c in categorical_Columns] + numeric_Cols\n",
    "\n",
    "#labeling the output using VectorAssembler.\n",
    "\n",
    "Assembler = VectorAssembler(inputCols=assembler_Inputs, outputCol=\"features\")\n",
    "stages += [Assembler]"
   ]
  },
  {
   "cell_type": "markdown",
   "metadata": {},
   "source": [
    "# Pipeline processing"
   ]
  },
  {
   "cell_type": "code",
   "execution_count": 59,
   "metadata": {},
   "outputs": [],
   "source": [
    "# Pipeline processing of data to take into the library\n",
    "\n",
    "pipeline = Pipeline(stages = stages)\n",
    "pipelineModel = pipeline.fit(df)\n",
    "df = pipelineModel.transform(df)\n"
   ]
  },
  {
   "cell_type": "code",
   "execution_count": 60,
   "metadata": {},
   "outputs": [
    {
     "name": "stdout",
     "output_type": "stream",
     "text": [
      "+----------+--------------------+---+--------+-----+-------+-----+-----+-----+------+------+---------+----+----+-----------+-----------+-----+-----+----------+----------+-----------+-----------+----+----------+----------+----+--------+--------+--------+-----+-----+-----------+-----------------+----------+------------+----------+----------------+----------------+--------------+------------+----------+----------------+----------+----------+---------------+----------+-----+\n",
      "|Pred_Label|            features| id|     dur|proto|service|state|spkts|dpkts|sbytes|dbytes|     rate|sttl|dttl|      sload|      dload|sloss|dloss|    sinpkt|    dinpkt|       sjit|       djit|swin|     stcpb|     dtcpb|dwin|  tcprtt|  synack|  ackdat|smean|dmean|trans_depth|response_body_len|ct_srv_src|ct_state_ttl|ct_dst_ltm|ct_src_dport_ltm|ct_dst_sport_ltm|ct_dst_src_ltm|is_ftp_login|ct_ftp_cmd|ct_flw_http_mthd|ct_src_ltm|ct_srv_dst|is_sm_ips_ports|attack_cat|label|\n",
      "+----------+--------------------+---+--------+-----+-------+-----+-----+-----+------+------+---------+----+----+-----------+-----------+-----+-----+----------+----------+-----------+-----------+----+----------+----------+----+--------+--------+--------+-----+-----+-----------+-----------------+----------+------------+----------+----------------+----------------+--------------+------------+----------+----------------+----------+----------+---------------+----------+-----+\n",
      "|       1.0|(191,[0,133,140,1...|  1|0.121478|  tcp|      -|  FIN|    6|    4|   258|   172| 74.08749| 252| 254|14158.94238|8495.365234|    0|    0|   24.2956|     8.375|  30.177547|  11.830604| 255| 621772692|2202533631| 255|     0.0|     0.0|     0.0|   43|   43|          0|                0|         1|           0|         1|               1|               1|             1|           0|         0|               0|         1|         1|              0|    Normal|    0|\n",
      "|       1.0|(191,[0,133,140,1...|  2|0.649902|  tcp|      -|  FIN|   14|   38|   734| 42014|78.473372|  62| 252|8395.112305|503571.3125|    2|   17|    49.915| 15.432865|  61.426934| 1387.77833| 255|1417884146|3077387971| 255|     0.0|     0.0|     0.0|   52| 1106|          0|                0|        43|           1|         1|               1|               1|             2|           0|         0|               0|         1|         6|              0|    Normal|    0|\n",
      "|       1.0|(191,[0,133,140,1...|  3|1.623129|  tcp|      -|  FIN|    8|   16|   364| 13186|14.170161|  62| 252|1572.271851|60929.23047|    1|    6|231.875571|102.737203|17179.58686|11420.92623| 255|2116150707|2963114973| 255|0.111897|0.061458|0.050439|   46|  824|          0|                0|         7|           1|         2|               1|               1|             3|           0|         0|               0|         2|         6|              0|    Normal|    0|\n",
      "+----------+--------------------+---+--------+-----+-------+-----+-----+-----+------+------+---------+----+----+-----------+-----------+-----+-----+----------+----------+-----------+-----------+----+----------+----------+----+--------+--------+--------+-----+-----+-----------+-----------------+----------+------------+----------+----------------+----------------+--------------+------------+----------+----------------+----------+----------+---------------+----------+-----+\n",
      "only showing top 3 rows\n",
      "\n"
     ]
    }
   ],
   "source": [
    "selected_Cols = ['Pred_Label', 'features'] + cloumns_set\n",
    "\n",
    "df = df.select(selected_Cols)\n",
    "df.show(3)\n",
    "\n"
   ]
  },
  {
   "cell_type": "code",
   "execution_count": 61,
   "metadata": {},
   "outputs": [
    {
     "name": "stdout",
     "output_type": "stream",
     "text": [
      "Training Dataset Count: 122872\n",
      "Test Dataset Count: 52469\n"
     ]
    }
   ],
   "source": [
    "# split data\n",
    "# split used in paper training_data= 175341(0.6805) testing_data=82332(0.3195) total: 257673\n",
    "#with provide testing_set from trainset  \n",
    "\n",
    "training_data, testing_data = df.randomSplit([0.7,0.3], seed = 2018)\n",
    "\n",
    "\n",
    "print(\"Training Dataset Count: \" + str(training_data.count()))\n",
    "print(\"Test Dataset Count: \" + str(testing_data.count()))\n",
    "# testing_data.show(3)"
   ]
  },
  {
   "cell_type": "markdown",
   "metadata": {},
   "source": [
    "# Build Model"
   ]
  },
  {
   "cell_type": "code",
   "execution_count": 62,
   "metadata": {},
   "outputs": [],
   "source": [
    "\n",
    "# model buit and evaluation\n",
    "# ----------------    Description about the evaluation elements ---------------------------------\n",
    "# input of LogisticRegression  -->label (label to predict labelcol) { to access use labelCol }\n",
    "#                           -->features_all (feature use for prediction in vector form) { to access use features_allCol }\n",
    "#output of RL --> prediction(actual predicton of model) {to access use predictionCol}\n",
    "#                   --> rawPrediction()                        { to access use rawPredictionCol }\n",
    "\n",
    "\n",
    "from pyspark.ml.classification import LogisticRegression\n",
    "lr = LogisticRegression(featuresCol = 'features', labelCol = 'Pred_Label', maxIter=10)\n",
    "start=time.time()\n",
    "lrModel = lr.fit(training_data)\n",
    "end=time.time()\n",
    "start1=time.time()\n",
    "f_predictions = lrModel.transform(testing_data)\n",
    "end1=time.time()\n"
   ]
  },
  {
   "cell_type": "code",
   "execution_count": 14,
   "metadata": {},
   "outputs": [
    {
     "data": {
      "text/plain": [
       "1606068572.930637"
      ]
     },
     "execution_count": 14,
     "metadata": {},
     "output_type": "execute_result"
    }
   ],
   "source": [
    "end1"
   ]
  },
  {
   "cell_type": "code",
   "execution_count": 63,
   "metadata": {},
   "outputs": [
    {
     "name": "stdout",
     "output_type": "stream",
     "text": [
      "+----------+----------+-----+\n",
      "|Pred_Label|prediction|count|\n",
      "+----------+----------+-----+\n",
      "|       1.0|       1.0|13826|\n",
      "|       0.0|       1.0|  508|\n",
      "|       1.0|       0.0| 2970|\n",
      "|       0.0|       0.0|35165|\n",
      "+----------+----------+-----+\n",
      "\n",
      "Time to train:\n",
      "36.583258867263794\n",
      "Time to predict:\n",
      "0.35104942321777344\n",
      "\n",
      " \t\t\tSCHEMA AFTER PREDICTION \n",
      "\n",
      "+-----+----------+----------+\n",
      "|label|prediction|Pred_Label|\n",
      "+-----+----------+----------+\n",
      "|    1|       1.0|       0.0|\n",
      "|    1|       1.0|       0.0|\n",
      "|    1|       0.0|       0.0|\n",
      "|    1|       0.0|       0.0|\n",
      "|    1|       0.0|       0.0|\n",
      "|    1|       0.0|       0.0|\n",
      "|    1|       0.0|       0.0|\n",
      "|    1|       0.0|       0.0|\n",
      "|    1|       0.0|       0.0|\n",
      "|    1|       0.0|       0.0|\n",
      "|    1|       0.0|       0.0|\n",
      "|    1|       0.0|       0.0|\n",
      "|    1|       0.0|       0.0|\n",
      "|    1|       0.0|       0.0|\n",
      "|    1|       0.0|       0.0|\n",
      "|    1|       1.0|       0.0|\n",
      "|    1|       0.0|       0.0|\n",
      "|    1|       0.0|       0.0|\n",
      "|    1|       0.0|       0.0|\n",
      "|    1|       0.0|       0.0|\n",
      "+-----+----------+----------+\n",
      "only showing top 20 rows\n",
      "\n"
     ]
    }
   ],
   "source": [
    "# #PRINT CONFUSION MATRIX\n",
    "CM = f_predictions.select(\"Pred_Label\",\"label\").distinct().toPandas()\n",
    "\n",
    "\n",
    "f_predictions.groupBy(\"Pred_Label\",\"prediction\").count().show()\n",
    "\n",
    "\n",
    "print(\"Time to train:\")\n",
    "print(end-start)\n",
    "print(\"Time to predict:\")\n",
    "print(end1-start1)\n",
    "\n",
    "print(\"\\n \\t\\t\\tSCHEMA AFTER PREDICTION \\n\")\n",
    "f_predictions.select('label','prediction', 'Pred_Label').show()"
   ]
  },
  {
   "cell_type": "code",
   "execution_count": 64,
   "metadata": {},
   "outputs": [
    {
     "name": "stdout",
     "output_type": "stream",
     "text": [
      "Accuracy of model\n",
      "0.9044658609396282\n",
      "ACCURACY :\n",
      "0.9337132401989746\n",
      "F1-score :\n",
      "0.9321975643008925\n"
     ]
    }
   ],
   "source": [
    "#EVALUATION\n",
    "\n",
    "evaluu = BinaryClassificationEvaluator(labelCol=\"Pred_Label\",rawPredictionCol=\"prediction\")\n",
    "print(\"Accuracy of model\")\n",
    "print(evaluu.evaluate(f_predictions))\n",
    "\n",
    "# print(evaluu.explainParams())\n",
    "\n",
    "\n",
    "# #MULTICLASS\n",
    "evaluator = MulticlassClassificationEvaluator(labelCol=\"Pred_Label\", predictionCol=\"prediction\",metricName=\"accuracy\")\n",
    "accuracy = evaluator.evaluate(f_predictions)\n",
    "print(\"ACCURACY :\")\n",
    "print(accuracy)\n",
    "\n",
    "evaluator = MulticlassClassificationEvaluator(labelCol=\"Pred_Label\", predictionCol=\"prediction\",metricName=\"f1\")\n",
    "f1accuracy = evaluator.evaluate(f_predictions)\n",
    "print(\"F1-score :\")\n",
    "print(f1accuracy)"
   ]
  },
  {
   "cell_type": "code",
   "execution_count": 65,
   "metadata": {},
   "outputs": [
    {
     "data": {
      "image/png": "[encoded data removed]",
      "text/plain": [
       "<Figure size 432x288 with 1 Axes>"
      ]
     },
     "metadata": {
      "needs_background": "light"
     },
     "output_type": "display_data"
    }
   ],
   "source": [
    "#We can obtain the coefficients by using LogisticRegressionModel’s attributes.\n",
    "import matplotlib.pyplot as plt\n",
    "import numpy as np\n",
    "beta = np.sort(lrModel.coefficients)\n",
    "plt.plot(beta)\n",
    "plt.ylabel('Beta Coefficients')\n",
    "plt.show()"
   ]
  },
  {
   "cell_type": "code",
   "execution_count": 66,
   "metadata": {},
   "outputs": [
    {
     "data": {
      "image/png": "[encoded data removed]",
      "text/plain": [
       "<Figure size 432x288 with 1 Axes>"
      ]
     },
     "metadata": {
      "needs_background": "light"
     },
     "output_type": "display_data"
    },
    {
     "name": "stdout",
     "output_type": "stream",
     "text": [
      "Training set areaUnderROC: 0.9808283234194772\n"
     ]
    }
   ],
   "source": [
    "#Summarize the model over the training set, \n",
    "#we can also obtain the receiver-operating characteristic and areaUnderROC.\n",
    "\n",
    "trainingSummary = lrModel.summary\n",
    "roc = trainingSummary.roc.toPandas()\n",
    "plt.plot(roc['FPR'],roc['TPR'])\n",
    "plt.ylabel('False Positive Rate')\n",
    "plt.xlabel('True Positive Rate')\n",
    "plt.title('ROC Curve')\n",
    "plt.show()\n",
    "print('Training set areaUnderROC: ' + str(trainingSummary.areaUnderROC))"
   ]
  },
  {
   "cell_type": "code",
   "execution_count": 67,
   "metadata": {},
   "outputs": [
    {
     "data": {
      "image/png": "[encoded data removed]",
      "text/plain": [
       "<Figure size 432x288 with 1 Axes>"
      ]
     },
     "metadata": {
      "needs_background": "light"
     },
     "output_type": "display_data"
    }
   ],
   "source": [
    "#Precision and recall.\n",
    "pr = trainingSummary.pr.toPandas()\n",
    "plt.plot(pr['recall'],pr['precision'])\n",
    "plt.ylabel('Precision')\n",
    "plt.xlabel('Recall')\n",
    "plt.show()"
   ]
  },
  {
   "cell_type": "code",
   "execution_count": 68,
   "metadata": {},
   "outputs": [
    {
     "name": "stdout",
     "output_type": "stream",
     "text": [
      "+-----+-----+-----+--------------------+----------+--------------------+\n",
      "|proto|state|label|       rawPrediction|prediction|         probability|\n",
      "+-----+-----+-----+--------------------+----------+--------------------+\n",
      "|  tcp|  FIN|    1|[-0.6337990264460...|       1.0|[0.34664961986986...|\n",
      "|  tcp|  FIN|    1|[-0.1075488462318...|       1.0|[0.47313867498101...|\n",
      "|  tcp|  FIN|    1|[1.97159336017271...|       0.0|[0.87778215280395...|\n",
      "|  tcp|  FIN|    1|[1.68056923689144...|       0.0|[0.84297989274927...|\n",
      "|  tcp|  FIN|    1|[1.93103973319381...|       0.0|[0.87336445795751...|\n",
      "|  tcp|  FIN|    1|[4.00865017362511...|       0.0|[0.98216594017417...|\n",
      "|  tcp|  FIN|    1|[3.34231060694826...|       0.0|[0.96585213234730...|\n",
      "|  tcp|  FIN|    1|[3.82139201916146...|       0.0|[0.97857191887219...|\n",
      "|  tcp|  FIN|    1|[1.82688170256588...|       0.0|[0.86138982964951...|\n",
      "|  tcp|  FIN|    1|[1.75508065166238...|       0.0|[0.85259247541812...|\n",
      "|  tcp|  FIN|    1|[1.86271765570821...|       0.0|[0.86561339859032...|\n",
      "|  tcp|  FIN|    1|[4.06405042605243...|       0.0|[0.98311084915552...|\n",
      "|  tcp|  FIN|    1|[4.01919207340871...|       0.0|[0.98234965663341...|\n",
      "|  tcp|  FIN|    1|[1.66715178497550...|       0.0|[0.84119571061165...|\n",
      "|  tcp|  FIN|    1|[1.19610512165752...|       0.0|[0.76783118175352...|\n",
      "|  tcp|  FIN|    1|[-0.0109878055786...|       1.0|[0.49725307624204...|\n",
      "|  tcp|  FIN|    1|[1.41279875635014...|       0.0|[0.80420700571788...|\n",
      "|  tcp|  FIN|    1|[1.19368828663271...|       0.0|[0.76740006227847...|\n",
      "|  tcp|  FIN|    1|[0.85637184359435...|       0.0|[0.70190207154952...|\n",
      "|  tcp|  FIN|    1|[0.78532818647632...|       0.0|[0.68682732242294...|\n",
      "|  tcp|  FIN|    1|[1.37261003018599...|       0.0|[0.79780151592288...|\n",
      "|  tcp|  FIN|    1|[1.73439732829121...|       0.0|[0.84997402294295...|\n",
      "|  tcp|  FIN|    1|[0.84411740444314...|       0.0|[0.69933167970245...|\n",
      "|  tcp|  FIN|    1|[1.27743345814131...|       0.0|[0.78201257752323...|\n",
      "|  tcp|  FIN|    1|[0.85993051694784...|       0.0|[0.70264613713939...|\n",
      "|  tcp|  FIN|    1|[1.03584271022566...|       0.0|[0.73804705807202...|\n",
      "|  tcp|  FIN|    1|[0.85504751872309...|       0.0|[0.70162490163179...|\n",
      "|  tcp|  FIN|    1|[1.05976936268680...|       0.0|[0.74264646774550...|\n",
      "|  tcp|  FIN|    1|[0.60669525836775...|       0.0|[0.64718657777881...|\n",
      "|  tcp|  FIN|    1|[-0.2004164785879...|       1.0|[0.45006291947577...|\n",
      "+-----+-----+-----+--------------------+----------+--------------------+\n",
      "only showing top 30 rows\n",
      "\n"
     ]
    }
   ],
   "source": [
    "#Make predictions on the test_set.\n",
    "predictions = lrModel.transform(testing_data)\n",
    "predictions.select('proto', 'state', 'label', 'rawPrediction', 'prediction', 'probability').show(30)\n",
    "\n",
    "# the rawPrediction value predict 0.0 or 1.0\n",
    "# if rawPrediction_value<0 than it's attack esle is normal."
   ]
  },
  {
   "cell_type": "code",
   "execution_count": null,
   "metadata": {},
   "outputs": [],
   "source": []
  }
 ],
 "metadata": {
  "kernelspec": {
   "display_name": "Python 3",
   "language": "python",
   "name": "python3"
  },
  "language_info": {
   "codemirror_mode": {
    "name": "ipython",
    "version": 3
   },
   "file_extension": ".py",
   "mimetype": "text/x-python",
   "name": "python",
   "nbconvert_exporter": "python",
   "pygments_lexer": "ipython3",
   "version": "3.7.4"
  }
 },
 "nbformat": 4,
 "nbformat_minor": 2
}
